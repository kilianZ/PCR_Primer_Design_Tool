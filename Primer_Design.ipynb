{
 "cells": [
  {
   "cell_type": "markdown",
   "id": "0f552cb0-1573-4caa-b372-8798d64789b0",
   "metadata": {},
   "source": [
    "## **PCR Primer Design using Python**\n",
    "**Written by Kilian Zindel**\n",
    "\n",
    "Polymerase Chain Reaction (PCR) is a method used to amplify (or make billions of copies) of a DNA strand. It is often a precursor to many other procedures used in genetic testing and research. In this method, DNA is replicated using many repeated cycles of heating and cooling, called thermal cycles. There are 3 processes that occur during each cycle. \n",
    "1. **Denaturation**: The tempature is raised to near-boiling, causing the double stranded DNA to separate (or denauture) into single strands.\n",
    "2. **Annealing**: The tempature is decreased to around 50–65°C, and **PCR Primers** bind (or anneal) to their complementary matches on the DNA sequence.\n",
    "3. **Extension**: The temperature is raised to around 68–72°C at which a Polymerase Enzyme binds to the **Primer** and adds nucleotides to the 3' end to complete the strand.\n",
    "\n",
    "The cycle is then repeated in order to duplicate DNA exponentially. Under perfect conditions, it would only take 30 cycles to produce over a billion copies of the target DNA.\n",
    "\n",
    "PCR Primers are short, single-stranded DNA sequences, typically spanning 18 to 25 nucleotides in length. They are essential for the extension phase of PCR because the Polymerase cannot start a new sequence, only add to the 3' end of an existing one. There are different kinds of primers designed for different use cases. In this tutorial I will be designing primers optimized for [Polymerase Chain Reaction (PCR)](https://www.biointeractive.org/classroom-resources/polymerase-chain-reaction-pcr). "
   ]
  },
  {
   "cell_type": "code",
   "execution_count": 6,
   "id": "20bdb33d-a744-410c-9d7c-1ce6955ca031",
   "metadata": {},
   "outputs": [
    {
     "data": {
      "text/plain": [
       "1073741824"
      ]
     },
     "execution_count": 6,
     "metadata": {},
     "output_type": "execute_result"
    }
   ],
   "source": [
    "# The power of exponential growth \n",
    "number_of_cycles = 30\n",
    "duplicate_DNA_strands = pow(2, number_of_cycles)\n",
    "duplicate_DNA_strands"
   ]
  },
  {
   "cell_type": "markdown",
   "id": "a1d038b3-e5e0-4ba4-9c7b-ffe108975044",
   "metadata": {},
   "source": [
    "![PCR-image](https://upload.wikimedia.org/wikipedia/commons/thumb/a/ab/Polymerase_chain_reaction-en.svg/1024px-Polymerase_chain_reaction-en.svg.png)"
   ]
  },
  {
   "cell_type": "markdown",
   "id": "6ee040b1-b9d0-4a0e-982c-d489cc8ad777",
   "metadata": {},
   "source": [
    "#### Calculating the Melting Temperature (Tm) of a Primer\n",
    "\n",
    "An important consideration when designing a PCR Primer is it's melting temperature. During the annealing process, the temperature plays a critical role in how primers bind to the template DNA because it affects the stability of hydrogen bonds between the primer and template. If the temperature is too high (e.g., >72°C) the hydrogen bonds break and the primer begins to dissocate from the DNA. If the temperature is too low (e.g., <50°C) primers are more likely to bind to and stick to non-target sequences. \n",
    "\n",
    "The temperature range of 50–65°C is considered to be optimal for annealing temperature (Ta) in PCR. The exact annealing temperature should be set at 3-5°C below the primers melting temperature, which means the optimal melting temperature for the primer should be 55°C or higher. \n",
    "\n",
    "This tempature range is optimal for two main reasons:\n",
    "1. Specificity: The tempature is high enough for primers to anneal specifically to their complementary sequence on the template DNA.\n",
    "2. Stability: The temparture is low enough for primers to form stable bonds with the template DNA.\n",
    "\n",
    "The **Melting Temperature (Tm)** depends on three main factors \n",
    "1. GC Content: higher GC content means higher melting temperature \n",
    "2. Length: high length means higher melting temperature\n",
    "3. Ionic Strength of the DNA Solution (Total ion concentration): More stable with high ionic strength solution\n",
    "\n",
    "It's been shown that there is a linear relationship between Primer and GC content, the Primer's Melting Temperature can be approximated using the Wallace rule. Let's define two functions in order to calculate GC content and melting temperature. "
   ]
  },
  {
   "cell_type": "code",
   "execution_count": 36,
   "id": "3eac7809-b3ed-4458-8ea3-aa27861d6f33",
   "metadata": {},
   "outputs": [],
   "source": [
    "def calc_gc_content(seq):\n",
    "    # calculate the percentage of nucleotides in sequence that are either 'G' or 'C'\n",
    "    c = seq.count('C')\n",
    "    g = seq.count('G')\n",
    "    gc_content = (g + c) / len(seq)\n",
    "    return round(100 * gc_content, 0) \n",
    "\n",
    "def calc_tm(seq):\n",
    "    # calculate the melting temperature of the sequence\n",
    "    # Simple approximation (Wallace rule):\n",
    "    # Tm ≈ 2°C*(A+T) + 4°C*(G+C)\n",
    "    a = seq.count('A')\n",
    "    t = seq.count('T')\n",
    "    g = seq.count('G')\n",
    "    c = seq.count('C')\n",
    "    return 2*(a+t) + 4*(g+c)"
   ]
  },
  {
   "cell_type": "markdown",
   "id": "0d5030ec-b150-4e98-9d92-d8a65b18c852",
   "metadata": {},
   "source": [
    "#### Detecting runs of repeated nucleotides\n",
    "We will also need a function to detect runs of 4 or more identical bases. It's best practice to avoid such primers because too many repeated bases can cause \"breathing\" of the primer in which a base bulges out, for example, a run of 5 Guanine nucleotides might bind to a run of 4 Cytosine nucleotides. This could aid in mispriming. "
   ]
  },
  {
   "cell_type": "code",
   "execution_count": 44,
   "id": "bd0cface-4edd-4eb7-b60f-46e234f7a65b",
   "metadata": {},
   "outputs": [],
   "source": [
    "def check_max_run(seq, max_run=4):\n",
    "    count = 1\n",
    "    for i in range(1, len(seq)):\n",
    "        # check if current and next base are the same\n",
    "        if seq[i-1] == seq[i]:\n",
    "            # if so: increment the count\n",
    "            count += 1\n",
    "            if count > max_run:\n",
    "                return True\n",
    "        else:\n",
    "            # otherwise: reset the count\n",
    "            count = 1 \n",
    "    return False"
   ]
  },
  {
   "cell_type": "markdown",
   "id": "734e6ae4-7bae-433a-9f15-9409b701e823",
   "metadata": {},
   "source": [
    "#### Checking the GC Clamp\n",
    "\n",
    "Because GC bonds are stronger than AT bonds, having 1-3 G/C nucleotides at the 3' end of the primer encourage complete primer binding, reduces the chances of the Primer dissociating, and aides in extension during PCR. The 3' end (group of last 5 nucleotides) is critical because this is where the Taq Polymerase begins adding nucleotides. \n",
    "\n",
    "We also need to ensure that we don't overclamp (having more than 3 G/C nucleotides in the last 5). Overclamping can lead to the formation of primer dimers (when primers bind to eachother) or other secondary structures like hairpins.  \n",
    "\n",
    "Let's write a function to check the 3' end and ensure it contains the recommended number of G/C nucleotides, and check if the last nucleotide is a G or C."
   ]
  },
  {
   "cell_type": "code",
   "execution_count": 45,
   "id": "ea340ab2-6238-4da4-95ce-a8360f4a301b",
   "metadata": {},
   "outputs": [],
   "source": [
    "def check_gc_clamp(seq, max_gc_clamp=3):\n",
    "    # check the last nucleotide \n",
    "    last_nt = seq[-1]\n",
    "    if not (last_nt == 'G' or last_nt == 'C'):\n",
    "        return False\n",
    "    \n",
    "    # check the GC clamp \n",
    "    clamp = seq[:-5]\n",
    "    g = clamp.count('G')\n",
    "    c = clamp.count('C')\n",
    "    gc_content = g + c\n",
    "    if 1 <= gc_content <= max_gc_clamp:\n",
    "        # The GC Clamp is optimal \n",
    "        return True \n",
    "    else: \n",
    "        return False "
   ]
  },
  {
   "cell_type": "markdown",
   "id": "de9a905d-d550-489b-90b3-8a930ec2b48d",
   "metadata": {},
   "source": [
    "#### Best Practices in Selecting Primers\n",
    "- https://www.bocsci.com/resources/what-are-oligonucleotide-primers.html?srsltid=AfmBOoqrulSfsaXCtnkj0b8bwHnZRzN-KGALtljojbyG2wuYoq10FRNd\n",
    "- https://www.thermofisher.com/blog/behindthebench/pcr-primer-design-tips/\n",
    "\n",
    "There are a number of guidelines and best practices we should adhere to when selecting Primers\n",
    "- Primers typically range from 18 to 24 nucleotides in length\n",
    "- Optimal melting temperature ranges from 55°C to 65°C\n",
    "- Optimal GC content is between 40% and 60%\n",
    "- A stable 3' end which terminates in 2-3 G/C bases.\n",
    "- Avoid runs of more than 4 identical bases"
   ]
  },
  {
   "cell_type": "markdown",
   "id": "a7595a64-0b98-45f3-ba73-c18730a2737f",
   "metadata": {},
   "source": [
    "#### Now Let's go get some Sequences!\n",
    "Here are some websites with the info we need:\n",
    "- https://www.ncbi.nlm.nih.gov/gene\n",
    "- https://www.uniprot.org/uniprotkb/P25084/entry\n",
    "\n",
    "Instead of manually getting sequences on the webiste, we can use the python request library and the NCBI API to retrieve the information we need. "
   ]
  },
  {
   "cell_type": "code",
   "execution_count": 30,
   "id": "35ddb456-0b9c-4241-9665-4b3d6d610eea",
   "metadata": {
    "scrolled": true
   },
   "outputs": [
    {
     "data": {
      "text/plain": [
       "'TTTCATATGTTTTCGTCATAAATAAATAGTTACAAGAAATAATGGAGTCGTCTGACAATTTACATGATATAGATAATCTTGAAAACGGTAACATGGCTTGCCAGTGCTTCTTGGTTGGAGCCGGATACGTGGCTCTTGCAGCTGTGGCTTATCGTCTTTTGACGATTTTCTCGAATATTTTGGGCCCATACGTTCTTCTGTCGCCAATCGATTTGAAGAAAAGAGCTGGAGCTTCTTGGGCTGTTGTCACCGGAGCCACTGACGGAATCGGAAAAGCATACGCCTTCGAATTGGCTCGTCGTGGATTCAATGTCCTGCTCGTTTCGCGTACCCAATCAAAACTCGATGAGACGAAGAAGGAGATTCTCGAGAAGTATTCCAGCATTGAGGTCCGCACTGCCGCCTTCGACTTCACCAACGCTGCTCCTTCTGCTTACAAAGATCTTCTCGCCACCTTGAACCAAGTAGAGATCGGAGTTCTTATTAACAACGTTGGAATGAGCTACGAATATCCAGATGTACTTCACAAAGTTGACGGTGGAATCGAGCGTCTTGCAAACATCACCACCATCAACACTCTTCCACCAACATTGCTCTCCGCCGGAATCCTTCCACAAATGGTCGCACGAAAGGCTGGAGTCATTGTTAATGTTGGATCTTCAGCTGGAGCAAATCAAATGGCTCTCTGGGCTGTGTATTCAGCTACAAAGAAGTATGTCTCCTGGCTCACCGCTATCCTCCGAAAAGAATATGAACATCAAGGAATCACTGTCCAAACTATTGCTCCAATGATGGTCGCCACAAAGATGTCAAAAGTCAAGAGAACTTCATTCTTCACTCCAGACGGAGCCGTGTTCGCTAAATCAGCTCTGAACACTGTTGGAAATACCTCAGACACCACCGGATACATCACGCATCAACTTCAACTCGAGCTCATGGATCTCATTCCAACATTCATCCGCGACAAGATCCTCACAAATATGAGTGTCGGAACTCGTGCTGCTGCTCTCAGAAAGAAGGAAAGAGAAGCCAAATCTCAGTAATTTCTCGACGTTATTTTGTAGAATCTAAATCAGTCCAATCCATTCAATTATTGCTATTTATTTATGTTATATAAAGTTTTTGTTTTTACTAAAA'"
      ]
     },
     "execution_count": 30,
     "metadata": {},
     "output_type": "execute_result"
    }
   ],
   "source": [
    "import requests\n",
    "\n",
    "def fetch_sequence(accession):\n",
    "    # gets FASTA data from the NCBI database using an accession number \n",
    "    base_url = \"https://eutils.ncbi.nlm.nih.gov/entrez/eutils/\"\n",
    "    params = {\n",
    "        'db': 'nucleotide',\n",
    "        'id': accession,\n",
    "        'rettype': 'fasta',\n",
    "        'retmode': 'text'\n",
    "    }\n",
    "    response = requests.get(base_url + \"efetch.fcgi\", params=params)\n",
    "    \n",
    "    # parse FASTA to extract sequence\n",
    "    fasta_data = response.text \n",
    "    # remove the first line and all newline characters\n",
    "    lines = fasta_data.splitlines()\n",
    "    sequence = \"\".join(lines[1:])\n",
    "    return sequence\n",
    "\n",
    "# Accession Number for Example Sequence: \n",
    "accession = \"NM_001268006.2\" # Caenorhabditis elegans act-1 gene,\n",
    "\n",
    "# Fetch Sequence from NCBI Database \n",
    "seq = fetch_sequence(accession)\n",
    "seq"
   ]
  },
  {
   "cell_type": "code",
   "execution_count": 15,
   "id": "c8bec9a4-a405-4fe0-9266-89bf69c82640",
   "metadata": {},
   "outputs": [
    {
     "data": {
      "text/html": [
       "<div>\n",
       "<style scoped>\n",
       "    .dataframe tbody tr th:only-of-type {\n",
       "        vertical-align: middle;\n",
       "    }\n",
       "\n",
       "    .dataframe tbody tr th {\n",
       "        vertical-align: top;\n",
       "    }\n",
       "\n",
       "    .dataframe thead th {\n",
       "        text-align: right;\n",
       "    }\n",
       "</style>\n",
       "<table border=\"1\" class=\"dataframe\">\n",
       "  <thead>\n",
       "    <tr style=\"text-align: right;\">\n",
       "      <th></th>\n",
       "      <th>start</th>\n",
       "      <th>primer_seq</th>\n",
       "    </tr>\n",
       "  </thead>\n",
       "  <tbody>\n",
       "    <tr>\n",
       "      <th>0</th>\n",
       "      <td>0</td>\n",
       "      <td>ATGGCCTTGGTTGACGGTTT</td>\n",
       "    </tr>\n",
       "    <tr>\n",
       "      <th>1</th>\n",
       "      <td>1</td>\n",
       "      <td>TGGCCTTGGTTGACGGTTTT</td>\n",
       "    </tr>\n",
       "    <tr>\n",
       "      <th>2</th>\n",
       "      <td>2</td>\n",
       "      <td>GGCCTTGGTTGACGGTTTTC</td>\n",
       "    </tr>\n",
       "    <tr>\n",
       "      <th>3</th>\n",
       "      <td>3</td>\n",
       "      <td>GCCTTGGTTGACGGTTTTCT</td>\n",
       "    </tr>\n",
       "    <tr>\n",
       "      <th>4</th>\n",
       "      <td>4</td>\n",
       "      <td>CCTTGGTTGACGGTTTTCTT</td>\n",
       "    </tr>\n",
       "    <tr>\n",
       "      <th>...</th>\n",
       "      <td>...</td>\n",
       "      <td>...</td>\n",
       "    </tr>\n",
       "    <tr>\n",
       "      <th>696</th>\n",
       "      <td>696</td>\n",
       "      <td>AATTTGGGTCTTATTACTCT</td>\n",
       "    </tr>\n",
       "    <tr>\n",
       "      <th>697</th>\n",
       "      <td>697</td>\n",
       "      <td>ATTTGGGTCTTATTACTCTC</td>\n",
       "    </tr>\n",
       "    <tr>\n",
       "      <th>698</th>\n",
       "      <td>698</td>\n",
       "      <td>TTTGGGTCTTATTACTCTCT</td>\n",
       "    </tr>\n",
       "    <tr>\n",
       "      <th>699</th>\n",
       "      <td>699</td>\n",
       "      <td>TTGGGTCTTATTACTCTCTG</td>\n",
       "    </tr>\n",
       "    <tr>\n",
       "      <th>700</th>\n",
       "      <td>700</td>\n",
       "      <td>TGGGTCTTATTACTCTCTGA</td>\n",
       "    </tr>\n",
       "  </tbody>\n",
       "</table>\n",
       "<p>701 rows × 2 columns</p>\n",
       "</div>"
      ],
      "text/plain": [
       "     start            primer_seq\n",
       "0        0  ATGGCCTTGGTTGACGGTTT\n",
       "1        1  TGGCCTTGGTTGACGGTTTT\n",
       "2        2  GGCCTTGGTTGACGGTTTTC\n",
       "3        3  GCCTTGGTTGACGGTTTTCT\n",
       "4        4  CCTTGGTTGACGGTTTTCTT\n",
       "..     ...                   ...\n",
       "696    696  AATTTGGGTCTTATTACTCT\n",
       "697    697  ATTTGGGTCTTATTACTCTC\n",
       "698    698  TTTGGGTCTTATTACTCTCT\n",
       "699    699  TTGGGTCTTATTACTCTCTG\n",
       "700    700  TGGGTCTTATTACTCTCTGA\n",
       "\n",
       "[701 rows x 2 columns]"
      ]
     },
     "execution_count": 15,
     "metadata": {},
     "output_type": "execute_result"
    }
   ],
   "source": [
    "import pandas as pd\n",
    "candidates = []\n",
    "primer_length = 20\n",
    "\n",
    "for start_pos in range(len(seq) - primer_length + 1):\n",
    "    forward_primer = seq[start_pos:start_pos+primer_length]\n",
    "    candidates.append({\n",
    "        'start': start_pos,\n",
    "        'primer_seq': ''.join(forward_primer),\n",
    "    })\n",
    "df_candidates = pd.DataFrame(candidates)\n",
    "\n",
    "df_candidates"
   ]
  },
  {
   "cell_type": "code",
   "execution_count": 16,
   "id": "e4dfc2a0-303e-4642-bc49-5bb675a49d94",
   "metadata": {},
   "outputs": [],
   "source": [
    "def reverse_complement(seq):\n",
    "    complement_map = {'A':'T','T':'A','C':'G','G':'C','N':'N'}\n",
    "    rc = ''.join(complement_map.get(base, 'N') for base in reversed(seq))\n",
    "    return rc"
   ]
  },
  {
   "cell_type": "code",
   "execution_count": 17,
   "id": "8d2a9795-4d5c-44df-8b03-bdf7c1204bd2",
   "metadata": {},
   "outputs": [],
   "source": [
    "def gc_content(seq):\n",
    "    seq = seq.upper()\n",
    "    return (seq.count('G') + seq.count('C')) / len(seq) * 100\n"
   ]
  },
  {
   "cell_type": "code",
   "execution_count": null,
   "id": "148bdd3c-d3a3-4518-ba93-b4211b5bd557",
   "metadata": {},
   "outputs": [],
   "source": [
    " \n",
    "# INPUTS: \n",
    "\n",
    "sequence = \"ACTG...\"  # Target sequence\n",
    "# target region ???\n",
    "min_length = 18\n",
    "max_length = 24\n",
    "gc_range = (40, 60)  # GC content range in %\n",
    "tm_range = (55, 65)  # Melting temperature range in °C\n",
    "max_self_complementarity = 5  # Maximum allowed score for self-complementarity\n",
    "max_gc_clamp = 3  # Max GC bases at the 3' end to avoid \"GC clamp\"\n",
    "max_hairpin_delta_g = -9.0  # Threshold for hairpin stability (kcal/mol)\n",
    "\n",
    "# get sequence from database using accession number \n",
    "accession = \"NM_000000\"\n",
    "sequence = get_sequence(accession)\n",
    "\n",
    "# generate a list of possible forward and reverse primers\n",
    "primer_candidates = generate_primers(sequence) \n",
    "\n",
    "\n",
    "# filter by criteria (melting temperature, desired lenght, GC_content etc. \n",
    "\n",
    "# check for secondary structures (hairpins, self dimers, cross dimers etc.) \n",
    "\n",
    "# check specificity with BLAST search \n",
    "\n",
    "\n"
   ]
  },
  {
   "cell_type": "markdown",
   "id": "a6ce155d-d364-4a85-b761-9be5aece4d70",
   "metadata": {},
   "source": [
    "MORE BEST PRACTICES: \n",
    "- forward and reverse primers should be within  5°C of eachother in terms of melting temperature\n",
    "- avoid intraprimer homology (3 bases that complement within the primer)\n",
    "- avoid inter primer homology (forward and reverse primers with complementary sequences) which can lead to self dimers and primer dimers instead of annealing to to desired DNA sequences. "
   ]
  },
  {
   "cell_type": "code",
   "execution_count": null,
   "id": "c91f692e-db83-4692-9d0d-b5c18cbbcbfe",
   "metadata": {},
   "outputs": [],
   "source": []
  },
  {
   "cell_type": "code",
   "execution_count": null,
   "id": "647b1316-6ab8-4a09-b9e8-0f3be3de8fee",
   "metadata": {},
   "outputs": [],
   "source": []
  }
 ],
 "metadata": {
  "kernelspec": {
   "display_name": "Python 3 (ipykernel)",
   "language": "python",
   "name": "python3"
  },
  "language_info": {
   "codemirror_mode": {
    "name": "ipython",
    "version": 3
   },
   "file_extension": ".py",
   "mimetype": "text/x-python",
   "name": "python",
   "nbconvert_exporter": "python",
   "pygments_lexer": "ipython3",
   "version": "3.13.0"
  }
 },
 "nbformat": 4,
 "nbformat_minor": 5
}
